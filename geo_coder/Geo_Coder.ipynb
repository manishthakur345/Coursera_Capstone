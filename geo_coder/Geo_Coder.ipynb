{
 "cells": [
  {
   "cell_type": "code",
   "execution_count": 1,
   "metadata": {},
   "outputs": [],
   "source": [
    "import pandas as pd\n",
    "import geocoder"
   ]
  },
  {
   "cell_type": "code",
   "execution_count": 2,
   "metadata": {},
   "outputs": [],
   "source": [
    "data = pd.read_excel('Wiki group.xlsx', index_col = 0)"
   ]
  },
  {
   "cell_type": "code",
   "execution_count": 3,
   "metadata": {
    "scrolled": true
   },
   "outputs": [
    {
     "name": "stdout",
     "output_type": "stream",
     "text": [
      "['Borough', 'Neighbourhood', 'Latitude', 'Longitude']\n"
     ]
    }
   ],
   "source": [
    "print(data.columns.tolist())"
   ]
  },
  {
   "cell_type": "code",
   "execution_count": 4,
   "metadata": {},
   "outputs": [
    {
     "data": {
      "text/plain": [
       "Index(['Borough', 'Neighbourhood', 'Latitude', 'Longitude'], dtype='object')"
      ]
     },
     "execution_count": 4,
     "metadata": {},
     "output_type": "execute_result"
    }
   ],
   "source": [
    "data.columns"
   ]
  },
  {
   "cell_type": "code",
   "execution_count": 5,
   "metadata": {},
   "outputs": [],
   "source": [
    "data_with_lat_lo = pd.DataFrame(columns = data.columns.tolist()+['Latitude', 'Longitude'])\n",
    "for row in data.iterrows():\n",
    "    postal_code = row[0]\n",
    "    lat_lng_coords = None\n",
    "    print(postal_code)\n",
    "    # loop until you get the coordinates\n",
    "    while(lat_lng_coords is None):\n",
    "      g = geocoder.google('{}, Toronto, Ontario'.format(postal_code))\n",
    "      lat_lng_coords = g.latlng\n",
    "\n",
    "    latitude = lat_lng_coords[0]\n",
    "    longitude = lat_lng_coords[1]\n",
    "    print(latitude, longitude)\n",
    "    row['Latitude'] = latitude\n",
    "    row['Longitude'] = longitude\n",
    "    data_with_lat_lo = data_with_lat_lo.append(row)\n",
    "   "
   ]
  },
  {
   "cell_type": "code",
   "execution_count": null,
   "metadata": {},
   "outputs": [],
   "source": []
  }
 ],
 "metadata": {
  "kernelspec": {
   "display_name": "Python 3",
   "language": "python",
   "name": "python3"
  },
  "language_info": {
   "codemirror_mode": {
    "name": "ipython",
    "version": 3
   },
   "file_extension": ".py",
   "mimetype": "text/x-python",
   "name": "python",
   "nbconvert_exporter": "python",
   "pygments_lexer": "ipython3",
   "version": "3.8.5"
  }
 },
 "nbformat": 4,
 "nbformat_minor": 4
}
